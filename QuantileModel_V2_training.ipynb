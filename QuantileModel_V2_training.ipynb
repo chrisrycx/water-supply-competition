{
 "cells": [
  {
   "cell_type": "markdown",
   "metadata": {},
   "source": [
    "## Quantile Model - V2 - Training\n",
    "In this version of the model I will include antecedent flow data along with the Snodas data.\n",
    "\n",
    "Approach:\n",
    "Utilize three different linear models: Season Start Snowpack, Season Start Antecedent Flow, Total Seasonal Flow\n",
    "\n",
    "I will keep the models separate even though they could probably be combined, just for simplicity."
   ]
  },
  {
   "cell_type": "code",
   "execution_count": 1,
   "metadata": {},
   "outputs": [],
   "source": [
    "import pandas as pd\n",
    "from sklearn.linear_model import QuantileRegressor, LinearRegression\n",
    "from typing import Tuple\n",
    "import matplotlib.pyplot as plt\n",
    "import pickle"
   ]
  },
  {
   "cell_type": "markdown",
   "metadata": {},
   "source": [
    "#### Load datasets"
   ]
  },
  {
   "cell_type": "code",
   "execution_count": 2,
   "metadata": {},
   "outputs": [],
   "source": [
    "snodas_data = pd.DataFrame()\n",
    "for year in range(2005,2024):\n",
    "    year_data = pd.read_csv(f'./data/snodas/snodas_swe_{year}.csv', index_col=0, parse_dates=True)\n",
    "    snodas_data = pd.concat([snodas_data, year_data])\n",
    "\n",
    "total_flow = pd.read_csv('./data/competition/train.csv')\n",
    "monthly_flow = pd.read_csv('./data/competition/train_monthly_naturalized_flow.csv')\n",
    "metadata = pd.read_csv('./data/competition/metadata.csv')\n",
    "\n",
    "# Change the column names of the SNODAS data to match the flow data\n",
    "snodas_data.columns = total_flow['site_id'].unique()"
   ]
  },
  {
   "cell_type": "markdown",
   "metadata": {},
   "source": [
    "### Generate the snow model from the training data\n",
    "\n",
    "This model predicts season start snowpack from current snowpack. There is a separate linear model for each prediction date and site."
   ]
  },
  {
   "cell_type": "code",
   "execution_count": null,
   "metadata": {},
   "outputs": [],
   "source": [
    "# Given a particular date and site, extract the SNODAS data so it can be used to train the linear regression model.\n",
    "def extract_swe(site: str, day: int, month: int) -> pd.Series:\n",
    "    # Create a daterange for the given day and month between 2005 and 2023\n",
    "    input_dates = pd.date_range(start='1/1/2005', end='1/1/2024', freq='D',inclusive='left')\n",
    "    input_dates = input_dates[(input_dates.day == day) & (input_dates.month == month)]\n",
    "\n",
    "    # If date is April 1st, change input_dates 2017 value to April 8th since April 1st is missing that year\n",
    "    if day == 1 and month == 4:\n",
    "        input_dates = input_dates.drop(pd.to_datetime('2017-04-01'))\n",
    "        input_dates = input_dates.append(pd.DatetimeIndex(['2017-04-08']))\n",
    "\n",
    "    snodas_day = snodas_data.loc[input_dates, site]\n",
    "\n",
    "    # Change the index to be the year\n",
    "    snodas_day.index = snodas_day.index.year\n",
    "\n",
    "    # Rename column to swe\n",
    "    snodas_day.name = 'swe'\n",
    "\n",
    "    return snodas_day"
   ]
  },
  {
   "cell_type": "code",
   "execution_count": null,
   "metadata": {},
   "outputs": [],
   "source": [
    "# Create a function that generates the model for a given site and date\n",
    "def generate_snow_model(site: str, day: int, month: int) -> LinearRegression:\n",
    "    \n",
    "    # If site is 'pecos_r_nr_pecos' season start date is 3/1, otherwise it is 4/1\n",
    "    if site == 'pecos_r_nr_pecos':\n",
    "        season_start_month = 3\n",
    "    else:\n",
    "        season_start_month = 4\n",
    "\n",
    "    # If month is greater than or equal to season start month, the season start date has past, so return None\n",
    "    if month >= season_start_month:\n",
    "        return None\n",
    "    \n",
    "    # Extract the swe data for the given site and date\n",
    "    swe_data = extract_swe(site, day, month)\n",
    "\n",
    "    # Extract season start swe\n",
    "    season_start_swe = extract_swe(site, 1, season_start_month)\n",
    "\n",
    "    # Create a linear regression model\n",
    "    model = LinearRegression()\n",
    "\n",
    "    # Fit the model to the data\n",
    "    model.fit(swe_data.to_numpy().reshape(-1,1), season_start_swe.to_numpy().reshape(-1,1))\n",
    "\n",
    "    return model\n",
    "\n",
    "# Test the model at a given site and date\n",
    "test_model = generate_snow_model('pecos_r_nr_pecos', 1, 2)"
   ]
  },
  {
   "cell_type": "code",
   "execution_count": null,
   "metadata": {},
   "outputs": [],
   "source": [
    "# Check the test snow model\n",
    "pecos_swe = extract_swe('pecos_r_nr_pecos', 1, 2)\n",
    "pecos_swe_season_start = extract_swe('pecos_r_nr_pecos', 1, 3)\n",
    "plt.scatter(pecos_swe, pecos_swe_season_start)\n",
    "plt.plot(pecos_swe, test_model.predict(pecos_swe.to_numpy().reshape(-1,1)), color='red')"
   ]
  },
  {
   "cell_type": "code",
   "execution_count": null,
   "metadata": {},
   "outputs": [],
   "source": [
    "# Generate the snow models for all sites and dates\n",
    "snow_models = {}\n",
    "sites = snodas_data.columns\n",
    "model_months = [1,2,3,4]\n",
    "model_days = [1,8,15,22]\n",
    "model_dates = [(month, day) for month in model_months for day in model_days]\n",
    "\n",
    "for site in sites:\n",
    "    snow_models[site] = {}\n",
    "    for month, day in model_dates:\n",
    "        snow_models[site][(month, day)] = generate_snow_model(site, day, month)\n"
   ]
  },
  {
   "cell_type": "code",
   "execution_count": null,
   "metadata": {},
   "outputs": [],
   "source": [
    "# Pickle the snow models for model testing\n",
    "import pickle\n",
    "with open('./model/snow_models.pkl', 'wb') as f:\n",
    "    pickle.dump(snow_models, f)"
   ]
  },
  {
   "cell_type": "markdown",
   "metadata": {},
   "source": [
    "### Generate the antecedent flow model from the training data\n",
    "This training dataset is much more extensive than the snow model, however data is limited to months rather than days. At the same time, I found having a different function interface from the snow model makes things really confusing, so I will keep it the same even though many models will be trained on the same data."
   ]
  },
  {
   "cell_type": "code",
   "execution_count": 3,
   "metadata": {},
   "outputs": [],
   "source": [
    "# Clean the dataset removing negative values and any incomplete years\n",
    "monthly_flow_clean = monthly_flow.copy()\n",
    "monthly_flow_clean.loc[monthly_flow['volume'] < 0, 'volume'] = 0\n",
    "\n",
    "# First identify what sites/years have missing data\n",
    "missing_data = monthly_flow[monthly_flow['volume'].isna()].groupby(['site_id','forecast_year']).count().reset_index()\n",
    "\n",
    "# Next, remove any years with incomplete records from total_flow\n",
    "merged = monthly_flow_clean.merge(missing_data, on=['site_id', 'forecast_year'], how='left', suffixes=[None,'_merged'], indicator=True)\n",
    "monthly_flow_clean = merged[merged['_merge'] == 'left_only'].drop(columns=['_merge','year_merged','month_merged','volume_merged'])"
   ]
  },
  {
   "cell_type": "code",
   "execution_count": 4,
   "metadata": {},
   "outputs": [],
   "source": [
    "# dillon_reservoir_inflow is missing some months from forecast year 1951, remove from dataset\n",
    "monthly_flow_clean = monthly_flow_clean[~((monthly_flow_clean['site_id'] == 'dillon_reservoir_inflow') & (monthly_flow_clean['forecast_year'] == 1951))]"
   ]
  },
  {
   "cell_type": "code",
   "execution_count": 5,
   "metadata": {},
   "outputs": [],
   "source": [
    "# Same problem with taylor_park_reservoir_inflow in 1953\n",
    "monthly_flow_clean = monthly_flow_clean[~((monthly_flow_clean['site_id'] == 'taylor_park_reservoir_inflow') & (monthly_flow_clean['forecast_year'] == 1953))]"
   ]
  },
  {
   "cell_type": "code",
   "execution_count": 6,
   "metadata": {},
   "outputs": [],
   "source": [
    "# Again at ruedi_reservoir_inflow in 1974\n",
    "monthly_flow_clean = monthly_flow_clean[~((monthly_flow_clean['site_id'] == 'ruedi_reservoir_inflow') & (monthly_flow_clean['forecast_year'] == 1974))]"
   ]
  },
  {
   "cell_type": "code",
   "execution_count": 7,
   "metadata": {},
   "outputs": [],
   "source": [
    "# Algorithm to determine months of antecedent flow. The water year starts in October, so antecedent flow for a given month is every month of the water year before that month.\n",
    "water_year_months = [10,11,12,1,2,3,4,5,6,7,8,9]\n",
    "def antecedent_months(month: int) -> Tuple[int]:\n",
    "    return tuple(water_year_months[:water_year_months.index(month)])"
   ]
  },
  {
   "cell_type": "code",
   "execution_count": 11,
   "metadata": {},
   "outputs": [
    {
     "name": "stdout",
     "output_type": "stream",
     "text": [
      "(10, 11, 12, 1, 2)\n"
     ]
    }
   ],
   "source": [
    "# Test antecedent_months\n",
    "print(antecedent_months(3))"
   ]
  },
  {
   "cell_type": "code",
   "execution_count": 12,
   "metadata": {},
   "outputs": [],
   "source": [
    "# Create a function for getting total antecedent flow for a given site and month. Return series of years.\n",
    "# In order to keep the same interface, I will include a day parameter. So for example, total flow on 2/15 will be total flow for January.\n",
    "def get_antecedent_flow(site_id: str, day: int, month: int) -> pd.Series:\n",
    "    site_flow_data: pd.DataFrame = monthly_flow_clean.loc[monthly_flow_clean['site_id'] == site_id,:].copy()\n",
    "    site_flow_data['antecedent'] = site_flow_data['month'].apply(lambda x: True if x in antecedent_months(month) else False)\n",
    "\n",
    "    # Calculate total flow where is_runoff is True by site and year\n",
    "    site_flow_totals = site_flow_data[site_flow_data['antecedent']].groupby(['site_id','forecast_year']).sum().reset_index()\n",
    "\n",
    "    site_flow_totals.set_index('forecast_year', inplace=True)\n",
    "    \n",
    "    return site_flow_totals['volume']\n",
    "\n",
    "# Test the function at the pecos_r_nr_pecos\n",
    "test_antecendent = get_antecedent_flow('pecos_r_nr_pecos', 15, 1)"
   ]
  },
  {
   "cell_type": "code",
   "execution_count": 14,
   "metadata": {},
   "outputs": [
    {
     "name": "stdout",
     "output_type": "stream",
     "text": [
      "forecast_year\n",
      "1952    10.900\n",
      "1953     9.500\n",
      "1954     8.100\n",
      "1955     8.400\n",
      "1956    10.400\n",
      "         ...  \n",
      "2014    19.980\n",
      "2016    15.434\n",
      "2018    16.590\n",
      "2020    15.044\n",
      "2022    12.288\n",
      "Name: volume, Length: 62, dtype: float64\n"
     ]
    }
   ],
   "source": [
    "test_antecendent = get_antecedent_flow('dillon_reservoir_inflow', 15, 12)\n",
    "print(test_antecendent)"
   ]
  },
  {
   "cell_type": "code",
   "execution_count": 15,
   "metadata": {},
   "outputs": [],
   "source": [
    "# Create a function for generating a linear regression model for a given site and month\n",
    "# Similar to the snow model, only generate a model if the season start month has not passed\n",
    "def generate_flow_model(site_id: str, day: int, month:int) -> LinearRegression:\n",
    "    # If site is 'pecos_r_nr_pecos' season start date is 3/1, otherwise it is 4/1\n",
    "    if site_id == 'pecos_r_nr_pecos':\n",
    "        season_start_month = 3\n",
    "    else:\n",
    "        season_start_month = 4\n",
    "\n",
    "    # If month is greater than or equal to season start month, the season start date has past, so return None\n",
    "    if month >= season_start_month:\n",
    "        return None\n",
    "\n",
    "    # Get the antecedent flow data for the given site and month\n",
    "    antecedent_flow: pd.Series = get_antecedent_flow(site_id, day, month)\n",
    "\n",
    "    # Get the season start antecedent flow data for the given site.\n",
    "    season_start_flow: pd.Series = get_antecedent_flow(site_id, 1, season_start_month)\n",
    "\n",
    "    # Create a linear regression model\n",
    "    model = LinearRegression()\n",
    "\n",
    "    # Fit the model to the data\n",
    "    model.fit(antecedent_flow.to_numpy().reshape(-1,1), season_start_flow.to_numpy().reshape(-1,1))\n",
    "\n",
    "    return model"
   ]
  },
  {
   "cell_type": "code",
   "execution_count": 16,
   "metadata": {},
   "outputs": [
    {
     "data": {
      "text/plain": [
       "[<matplotlib.lines.Line2D at 0x199c6c77040>]"
      ]
     },
     "execution_count": 16,
     "metadata": {},
     "output_type": "execute_result"
    },
    {
     "data": {
      "image/png": "[encoded data removed]",
      "text/plain": [
       "<Figure size 640x480 with 1 Axes>"
      ]
     },
     "metadata": {},
     "output_type": "display_data"
    }
   ],
   "source": [
    "# Test the function at the pecos_r_nr_pecos site for month of 2\n",
    "pecos_anteflow_model = generate_flow_model('pecos_r_nr_pecos', 15, 1)\n",
    "pecos_anteflow_jan = get_antecedent_flow('pecos_r_nr_pecos', 15, 1)\n",
    "pecos_anteflow_ss = get_antecedent_flow('pecos_r_nr_pecos', 1, 3)\n",
    "plt.scatter(pecos_anteflow_jan, pecos_anteflow_ss)\n",
    "plt.plot(pecos_anteflow_jan, pecos_anteflow_model.predict(pecos_anteflow_jan.to_numpy().reshape(-1,1)), color='red')"
   ]
  },
  {
   "cell_type": "code",
   "execution_count": 17,
   "metadata": {},
   "outputs": [],
   "source": [
    "# Check what snodas data columns are not in the monthly_flow data\n",
    "missing_sites = [site for site in snodas_data.columns if site not in monthly_flow_clean['site_id'].unique()]"
   ]
  },
  {
   "cell_type": "code",
   "execution_count": 18,
   "metadata": {},
   "outputs": [
    {
     "name": "stdout",
     "output_type": "stream",
     "text": [
      "hungry_horse_reservoir_inflow\n",
      "snake_r_nr_heise\n",
      "pueblo_reservoir_inflow\n",
      "sweetwater_r_nr_alcova\n",
      "missouri_r_at_toston\n",
      "animas_r_at_durango\n",
      "yampa_r_nr_maybell\n",
      "libby_reservoir_inflow\n",
      "boise_r_nr_boise\n",
      "green_r_bl_howard_a_hanson_dam\n",
      "taylor_park_reservoir_inflow\n",
      "dillon_reservoir_inflow\n",
      "ruedi_reservoir_inflow\n",
      "fontenelle_reservoir_inflow\n",
      "weber_r_nr_oakley\n",
      "san_joaquin_river_millerton_reservoir\n",
      "merced_river_yosemite_at_pohono_bridge\n",
      "american_river_folsom_lake\n",
      "colville_r_at_kettle_falls\n",
      "stehekin_r_at_stehekin\n",
      "detroit_lake_inflow\n",
      "virgin_r_at_virtin\n",
      "skagit_ross_reservoir\n",
      "boysen_reservoir_inflow\n",
      "pecos_r_nr_pecos\n",
      "owyhee_r_bl_owyhee_dam\n"
     ]
    }
   ],
   "source": [
    "# Generate the flow models for all sites and months\n",
    "antecedent_flow_models = {}\n",
    "sites = snodas_data.columns\n",
    "model_months = [1,2,3]\n",
    "model_days = [1,8,15,22]\n",
    "model_dates = [(month, day) for month in model_months for day in model_days]\n",
    "\n",
    "for site in sites:\n",
    "    print(site)\n",
    "\n",
    "    # Some sites don't have antecedent flow data, so set them to None\n",
    "    if site in missing_sites:\n",
    "        antecedent_flow_models[site] = None\n",
    "        continue\n",
    "\n",
    "    antecedent_flow_models[site] = {}\n",
    "    for month, day in model_dates:\n",
    "        antecedent_flow_models[site][(month, day)] = generate_flow_model(site, day, month)"
   ]
  },
  {
   "cell_type": "code",
   "execution_count": 19,
   "metadata": {},
   "outputs": [],
   "source": [
    "# Pickle the antecedent flow models for model testing\n",
    "with open('./model/antecedent_flow_models.pkl', 'wb') as f:\n",
    "    pickle.dump(antecedent_flow_models, f)"
   ]
  },
  {
   "cell_type": "markdown",
   "metadata": {},
   "source": [
    "### Create the final total flow model using Quantile Regression\n",
    "This model uses season start snowpack and antecedent flow to predict total seasonal flow. There is one model per site and quantile.\n",
    "\n",
    "For sites without antecedent flow, only the snow model is used."
   ]
  },
  {
   "cell_type": "code",
   "execution_count": null,
   "metadata": {},
   "outputs": [],
   "source": [
    "# Create a function for generating quatile models for a given site and quantile\n",
    "def generate_total_flow_model(site_id, quantile) -> QuantileRegressor:\n",
    "    # If site is 'pecos_r_nr_pecos' season start date is 3/1, otherwise it is 4/1\n",
    "    if site_id == 'pecos_r_nr_pecos':\n",
    "        season_start_month = 3\n",
    "    else:\n",
    "        season_start_month = 4\n",
    "\n",
    "    # Get the season start snow data for the given site\n",
    "    season_start_snow: pd.Series = extract_swe(site_id, 1, season_start_month)\n",
    "\n",
    "    # Get the season start antecedent flow data for the given site\n",
    "    season_start_anteflow: pd.Series = get_antecedent_flow(site_id, 1, season_start_month)\n",
    "\n",
    "    # Create a dataframe with the season start snow and antecedent flow data. Use merge because there will be less years of snow data.\n",
    "    site_data = pd.merge(season_start_snow, season_start_anteflow, left_index=True, right_index=True)\n",
    "\n",
    "    # Convert swe to units of kaf\n",
    "    site_data['swe_kaf'] = site_data['swe'] / 1233.48\n",
    "\n",
    "    # Get the total flow data for the given site\n",
    "    site_total_flow = total_flow[total_flow['site_id'] == site_id].drop(columns=['site_id']).set_index('year')\n",
    "\n",
    "    # Merge the total flow data with the season start data\n",
    "    site_data = site_data.join(site_total_flow,how='left',lsuffix='_season_start', rsuffix='_total')\n",
    "\n",
    "    # Create a quantile regression model\n",
    "    model = QuantileRegressor(quantile=quantile,alpha=0,solver='highs')\n",
    "\n",
    "    # Fit the model to the data\n",
    "    model.fit(site_data[['swe_kaf','volume_season_start']], site_data['volume_total'])\n",
    "\n",
    "    return model\n",
    "\n",
    "test_model = generate_total_flow_model('pecos_r_nr_pecos', 0.5)"
   ]
  },
  {
   "cell_type": "code",
   "execution_count": null,
   "metadata": {},
   "outputs": [],
   "source": [
    "# Evaluate the model at Pecos\n",
    "pecos_swe = extract_swe('pecos_r_nr_pecos', 1, 3)\n",
    "pecos_anteflow = get_antecedent_flow('pecos_r_nr_pecos', 1, 3)\n",
    "pecos_total_flow = total_flow[total_flow['site_id'] == 'pecos_r_nr_pecos'].drop(columns=['site_id']).set_index('year')\n",
    "pecos_data = pd.merge(pecos_swe, pecos_anteflow, left_index=True, right_index=True)\n",
    "pecos_data = pecos_data.join(pecos_total_flow,how='left',lsuffix='_season_start', rsuffix='_total') \n",
    "pecos_data['swe_kaf'] = pecos_data['swe'] / 1233.48\n",
    "pecos_model = generate_total_flow_model('pecos_r_nr_pecos', 0.5)\n",
    "pecos_data['predicted'] = pecos_model.predict(pecos_data[['swe_kaf','volume_season_start']])"
   ]
  },
  {
   "cell_type": "code",
   "execution_count": null,
   "metadata": {},
   "outputs": [],
   "source": [
    "# Create a second model generator for sites without antecedent flow data that just use swe\n",
    "# Note that I don't have to worry about pecos with this model because it has antecedent flow data\n",
    "def generate_total_flow_model_nosnow(site_id, quantile):\n",
    "    # Get the season start snow data for the given site\n",
    "    season_start_snow: pd.Series = extract_swe(site_id, 1, 4)\n",
    "\n",
    "    # Get the total flow data for the given site\n",
    "    site_total_flow = total_flow[total_flow['site_id'] == site_id].drop(columns=['site_id']).set_index('year')\n",
    "\n",
    "    # Create a dataframe with season start snow data and total flow data\n",
    "    site_data = pd.merge(season_start_snow, site_total_flow, left_index=True, right_index=True)\n",
    "    \n",
    "    # Convert swe to units of kaf\n",
    "    site_data['swe_kaf'] = site_data['swe'] / 1233.48\n",
    "\n",
    "    # Create a quantile regression model\n",
    "    model = QuantileRegressor(quantile=quantile,alpha=0,solver='highs')\n",
    "\n",
    "    # Fit the model to the data\n",
    "    model.fit(site_data[['swe_kaf']], site_data['volume'])\n",
    "\n",
    "    return model"
   ]
  },
  {
   "cell_type": "code",
   "execution_count": null,
   "metadata": {},
   "outputs": [],
   "source": [
    "# Test the second model generator at merced_river_yosemite_at_pohono_bridge\n",
    "merced_swe = extract_swe('merced_river_yosemite_at_pohono_bridge', 1, 4)\n",
    "merced_total_flow = total_flow[total_flow['site_id'] == 'merced_river_yosemite_at_pohono_bridge'].drop(columns=['site_id']).set_index('year')\n",
    "merced_data = pd.merge(merced_swe, merced_total_flow, left_index=True, right_index=True)\n",
    "merced_data['swe_kaf'] = merced_data['swe'] / 1233.48"
   ]
  },
  {
   "cell_type": "code",
   "execution_count": null,
   "metadata": {},
   "outputs": [],
   "source": [
    "merced_model = generate_total_flow_model_nosnow('merced_river_yosemite_at_pohono_bridge', 0.5)\n",
    "merced_data['predicted'] = merced_model.predict(merced_data[['swe_kaf']])"
   ]
  },
  {
   "cell_type": "code",
   "execution_count": null,
   "metadata": {},
   "outputs": [],
   "source": [
    "# Plot merced data\n",
    "plt.scatter(merced_data['swe_kaf'], merced_data['volume'])\n",
    "plt.plot(merced_data['swe_kaf'], merced_data['predicted'], color='red')"
   ]
  },
  {
   "cell_type": "markdown",
   "metadata": {},
   "source": [
    "#### Final model training"
   ]
  },
  {
   "cell_type": "code",
   "execution_count": null,
   "metadata": {},
   "outputs": [],
   "source": [
    "# Generate three different quantile models for each site [0.1, 0.5, 0.9]. At sites without antecedent flow use only the snow model.\n",
    "quantile_models = {}\n",
    "quantiles = ['0.1', '0.5', '0.9']\n",
    "\n",
    "sites = snodas_data.columns\n",
    "\n",
    "for site in sites:\n",
    "    quantile_models[site] = {}\n",
    "    for quantile in quantiles:\n",
    "        if site in missing_sites:\n",
    "            quantile_models[site][quantile] = generate_total_flow_model_nosnow(site, float(quantile))\n",
    "        else:\n",
    "            quantile_models[site][quantile] = generate_total_flow_model(site, float(quantile))"
   ]
  },
  {
   "cell_type": "code",
   "execution_count": null,
   "metadata": {},
   "outputs": [],
   "source": [
    "import pickle\n",
    "\n",
    "# Pickle the quantile models for model testing\n",
    "with open('./model/total_flow_quantile_models.pkl', 'wb') as f:\n",
    "    pickle.dump(quantile_models, f)"
   ]
  }
 ],
 "metadata": {
  "kernelspec": {
   "display_name": ".drivendata",
   "language": "python",
   "name": "python3"
  },
  "language_info": {
   "codemirror_mode": {
    "name": "ipython",
    "version": 3
   },
   "file_extension": ".py",
   "mimetype": "text/x-python",
   "name": "python",
   "nbconvert_exporter": "python",
   "pygments_lexer": "ipython3",
   "version": "3.10.7"
  }
 },
 "nbformat": 4,
 "nbformat_minor": 2
}
