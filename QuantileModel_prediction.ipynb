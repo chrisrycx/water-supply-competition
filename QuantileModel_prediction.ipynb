{
 "cells": [
  {
   "cell_type": "markdown",
   "metadata": {},
   "source": [
    "## Quantile Model Prediction\n",
    "Use the trained quantile model to predict the quantiles for the competition submission."
   ]
  },
  {
   "cell_type": "code",
   "execution_count": null,
   "metadata": {},
   "outputs": [],
   "source": [
    "import pandas as pd\n",
    "from sklearn.linear_model import QuantileRegressor\n",
    "import datetime\n",
    "from typing import Literal"
   ]
  },
  {
   "cell_type": "markdown",
   "metadata": {},
   "source": [
    "#### Load SNODAS, site metadata, and submission csv"
   ]
  },
  {
   "cell_type": "code",
   "execution_count": null,
   "metadata": {},
   "outputs": [],
   "source": [
    "snodas_data = pd.DataFrame()\n",
    "for year in range(2005,2024):\n",
    "    year_data = pd.read_csv(f'./data/snodas/snodas_swe_{year}.csv', index_col=0, parse_dates=True)\n",
    "    snodas_data = pd.concat([snodas_data, year_data])"
   ]
  },
  {
   "cell_type": "code",
   "execution_count": null,
   "metadata": {},
   "outputs": [],
   "source": [
    "model_submission = pd.read_csv('./data/competition/submission_format.csv')"
   ]
  },
  {
   "cell_type": "code",
   "execution_count": null,
   "metadata": {},
   "outputs": [],
   "source": [
    "site_metadata = pd.read_csv('./data/competition/metadata.csv',index_col=0)"
   ]
  },
  {
   "cell_type": "code",
   "execution_count": null,
   "metadata": {},
   "outputs": [],
   "source": [
    "# Change the column names of the SNODAS data to match the other datasets\n",
    "snodas_data.columns = site_metadata.index.to_numpy()"
   ]
  },
  {
   "cell_type": "markdown",
   "metadata": {},
   "source": [
    "#### Load pre-trained quantile model"
   ]
  },
  {
   "cell_type": "code",
   "execution_count": null,
   "metadata": {},
   "outputs": [],
   "source": [
    "# Unpickle the model\n",
    "import pickle\n",
    "with open('./model/quantile_models.pkl', 'rb') as f:\n",
    "    quantile_models = pickle.load(f)"
   ]
  },
  {
   "cell_type": "markdown",
   "metadata": {},
   "source": [
    "### Create a function to perform the prediction"
   ]
  },
  {
   "cell_type": "code",
   "execution_count": null,
   "metadata": {},
   "outputs": [],
   "source": [
    "def predict_quantile(site:str, prediction_date_str: str, quantile: Literal['0.1','0.5','0.9']):\n",
    "    \"\"\"\n",
    "    Predicts the snow water equivalent for a given site and date at a given quantile.\n",
    "\n",
    "    Any dates that are after the runoff start date use the value for the runoff start date.\n",
    "    \"\"\"\n",
    "    # Convert the prediction date to a datetime object\n",
    "    prediction_date = datetime.datetime.strptime(prediction_date_str, '%Y-%m-%d').date()\n",
    "\n",
    "    # Check if the prediction date is after the runoff start date\n",
    "    runoff_start_month = site_metadata.loc[site,'season_start_month']\n",
    "    if prediction_date.month >= runoff_start_month:\n",
    "        prediction_date = datetime.date(prediction_date.year, runoff_start_month, 1)\n",
    "\n",
    "    # Get the model for the site and date\n",
    "    model_index = {'0.1': 0, '0.5': 1, '0.9': 2}\n",
    "    model: QuantileRegressor = quantile_models[site][(prediction_date.month, prediction_date.day)][model_index[quantile]]\n",
    "\n",
    "    # Handle missing 2017-04-01 from SNODAS data\n",
    "    if prediction_date == datetime.date(2017,4,1):\n",
    "        prediction_date = datetime.date(2017,4,8)\n",
    "    \n",
    "    # Get the snodas data for the site and date and convert to KAF\n",
    "    snodas_swe = snodas_data.loc[prediction_date.strftime('%Y-%m-%d'), site] / 1233.48\n",
    "\n",
    "    # Predict the quantile\n",
    "    return model.predict([[snodas_swe]])[0]\n",
    "\n",
    "    \n"
   ]
  },
  {
   "cell_type": "code",
   "execution_count": null,
   "metadata": {},
   "outputs": [],
   "source": [
    "# Test the model\n",
    "predict_quantile('pecos_r_nr_pecos', '2021-04-01', '0.5')"
   ]
  },
  {
   "cell_type": "markdown",
   "metadata": {},
   "source": [
    "#### Predict quantiles for each site\n",
    "Use the submission format to generate all the predictions"
   ]
  },
  {
   "cell_type": "code",
   "execution_count": null,
   "metadata": {},
   "outputs": [],
   "source": [
    "model_submission['volume_10'] = model_submission.apply(lambda row: predict_quantile(row['site_id'], row['issue_date'], '0.1'), axis=1)"
   ]
  },
  {
   "cell_type": "code",
   "execution_count": null,
   "metadata": {},
   "outputs": [],
   "source": [
    "model_submission['volume_50'] = model_submission.apply(lambda row: predict_quantile(row['site_id'], row['issue_date'], '0.5'), axis=1)"
   ]
  },
  {
   "cell_type": "code",
   "execution_count": null,
   "metadata": {},
   "outputs": [],
   "source": [
    "model_submission['volume_90'] = model_submission.apply(lambda row: predict_quantile(row['site_id'], row['issue_date'], '0.9'), axis=1)"
   ]
  },
  {
   "cell_type": "code",
   "execution_count": null,
   "metadata": {},
   "outputs": [],
   "source": [
    "# Save the submission to csv\n",
    "model_submission.to_csv('./data/competition/submissions/quantile_submission_120623.csv', index=False)"
   ]
  }
 ],
 "metadata": {
  "kernelspec": {
   "display_name": ".drivendata",
   "language": "python",
   "name": "python3"
  },
  "language_info": {
   "codemirror_mode": {
    "name": "ipython",
    "version": 3
   },
   "file_extension": ".py",
   "mimetype": "text/x-python",
   "name": "python",
   "nbconvert_exporter": "python",
   "pygments_lexer": "ipython3",
   "version": "3.10.7"
  }
 },
 "nbformat": 4,
 "nbformat_minor": 2
}
